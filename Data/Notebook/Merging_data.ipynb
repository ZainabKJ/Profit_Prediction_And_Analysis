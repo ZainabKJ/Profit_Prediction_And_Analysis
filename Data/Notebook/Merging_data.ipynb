{
 "cells": [
  {
   "cell_type": "code",
   "execution_count": 1,
   "id": "1ba19539",
   "metadata": {},
   "outputs": [],
   "source": [
    "import pandas as pd"
   ]
  },
  {
   "cell_type": "code",
   "execution_count": 2,
   "id": "7d9fe6fc",
   "metadata": {},
   "outputs": [],
   "source": [
    "# Load data for each company and financial aspect\n",
    "fBalanceSheet = pd.read_csv('../csv2/Ford/Ford-Balance.csv')\n",
    "fIncomeStatement = pd.read_csv('../csv2/Ford/Ford-IS.csv')\n",
    "fCashFlow = pd.read_csv('../csv2/Ford/Ford-CF.csv')\n",
    "fRatios = pd.read_csv('../csv2/Ford/Ford-R.csv')\n",
    "\n",
    "mBalanceSheet = pd.read_csv('../csv2/Benz/Benz-Balance.csv')\n",
    "mCashFlow = pd.read_csv('../csv2/Benz/Benz-CF.csv')\n",
    "mIncomeStatement = pd.read_csv('../csv2/Benz/Benz-IS.csv')\n",
    "mRatios = pd.read_csv('../csv2/Benz/Benz-R.csv')\n",
    "\n",
    "tBalanceSheet = pd.read_csv('../csv2/Tesla/Tesla-Balance.csv')\n",
    "tCashFlow = pd.read_csv('../csv2/Tesla/Tesla-CF.csv')\n",
    "tIncomeStatement = pd.read_csv('../csv2/Tesla/Tesla-IS.csv')\n",
    "tRatios = pd.read_csv('../csv2/Tesla/Tesla-R.csv')\n"
   ]
  },
  {
   "cell_type": "code",
   "execution_count": 3,
   "id": "504e6f04",
   "metadata": {},
   "outputs": [],
   "source": [
    "# Quaterly Data as common value\n",
    "common_identifier = 'Quaterly Data'\n"
   ]
  },
  {
   "cell_type": "code",
   "execution_count": 4,
   "id": "6d4ad8d6",
   "metadata": {},
   "outputs": [],
   "source": [
    "# Merge data for each company \n",
    "fMerge = pd.concat([fBalanceSheet, fIncomeStatement, fCashFlow, fRatios], axis=1)\n",
    "mMerge = pd.concat([mBalanceSheet, mIncomeStatement, mCashFlow, mRatios], axis=1)\n",
    "tMerge = pd.concat([tBalanceSheet, tIncomeStatement, tCashFlow, tRatios], axis=1)\n"
   ]
  },
  {
   "cell_type": "code",
   "execution_count": 5,
   "id": "21ad900a",
   "metadata": {},
   "outputs": [],
   "source": [
    "# Save files\n",
    "fMerge.to_csv('../csv2/fMerge.csv', index=False)\n",
    "mMerge.to_csv('../csv2/mMerge.csv', index=False)\n",
    "tMerge.to_csv('../csv2/tMerge.csv', index=False)"
   ]
  },
  {
   "cell_type": "code",
   "execution_count": 6,
   "id": "888a30df",
   "metadata": {},
   "outputs": [],
   "source": [
    "# Name the saved file\n",
    "ford = pd.read_csv('../csv2/fMerge.csv')\n",
    "benz = pd.read_csv('../csv2/mMerge.csv')\n",
    "tesla = pd.read_csv('../csv2/tMerge.csv')"
   ]
  },
  {
   "cell_type": "code",
   "execution_count": 7,
   "id": "4ffcaa03",
   "metadata": {},
   "outputs": [
    {
     "name": "stdout",
     "output_type": "stream",
     "text": [
      "  Quaterly Data  Cash On Hand  Receivables  Inventory  Pre-Paid Expenses  \\\n",
      "0    2023-06-30         42821        14482      17703                  0   \n",
      "1    2023-03-31         39513        14920      16212                  0   \n",
      "2    2022-12-31         44070        15729      14080                  0   \n",
      "\n",
      "   Other Current Assets  Total Current Assets  Property, Plant, And Equipment  \\\n",
      "0                  4149                121712                           38503   \n",
      "1                  4128                115123                           37970   \n",
      "2                  3877                116476                           37265   \n",
      "\n",
      "   Long-Term Investments  Goodwill And Intangible Assets  ...  \\\n",
      "0                  25240                               0  ...   \n",
      "1                  25456                               0  ...   \n",
      "2                  25570                               0  ...   \n",
      "\n",
      "   Inventory Turnover Ratio  Receiveable Turnover  Days Sales In Receivables  \\\n",
      "0                    2.1166                3.1041                    28.9936   \n",
      "1                    2.1385                2.7798                    32.3769   \n",
      "2                    2.6858                2.7973                    32.1737   \n",
      "\n",
      "   ROE - Return On Equity  Return On Tangible Equity  ROA - Return On Assets  \\\n",
      "0                  4.6232                     4.6232                  0.7579   \n",
      "1                  3.9410                     3.9410                  0.6476   \n",
      "2                  2.9166                     2.9166                  0.4920   \n",
      "\n",
      "   ROI - Return On Investment  Book Value Per Share  \\\n",
      "0                      1.4662               10.4948   \n",
      "1                      1.2463               10.1606   \n",
      "2                      0.9540               10.3892   \n",
      "\n",
      "   Operating Cash Flow Per Share  Free Cash Flow Per Share  \n",
      "0                         1.2439                    0.7629  \n",
      "1                         0.6950                    0.2532  \n",
      "2                         0.2960                   -0.2206  \n",
      "\n",
      "[3 rows x 98 columns]\n",
      "  Quaterly Data  Cash On Hand  Receivables  Inventory  Pre-Paid Expenses  \\\n",
      "0    2023-06-30      27820.46     49246.83   31247.59                NaN   \n",
      "1    2023-03-31      30850.59     48437.18   30693.87                NaN   \n",
      "2    2022-12-31      28835.98     47846.08   26994.29                NaN   \n",
      "\n",
      "   Other Current Assets  Total Current Assets  Property, Plant, And Equipment  \\\n",
      "0              4590.584              112905.5                        28680.79   \n",
      "1              5524.790              115506.4                        28421.48   \n",
      "2              4711.699              108388.0                        28710.60   \n",
      "\n",
      "   Long-Term Investments  Goodwill And Intangible Assets  ...  \\\n",
      "0               20299.98                        17912.00  ...   \n",
      "1               20497.65                        17545.80  ...   \n",
      "2               19840.34                        16719.58  ...   \n",
      "\n",
      "   Inventory Turnover Ratio  Receiveable Turnover  Days Sales In Receivables  \\\n",
      "0                    1.0219                0.8467                   106.2932   \n",
      "1                    0.9830                0.8314                   108.2538   \n",
      "2                    1.2284                0.8814                   102.1061   \n",
      "\n",
      "   ROE - Return On Equity  Return On Tangible Equity  ROA - Return On Assets  \\\n",
      "0                  4.1060                     5.0396                  1.4067   \n",
      "1                  4.4120                     5.3792                  1.5237   \n",
      "2                  4.5498                     5.5715                  1.5143   \n",
      "\n",
      "   ROI - Return On Investment  Book Value Per Share  \\\n",
      "0                      2.4587               90.3794   \n",
      "1                      2.6597               91.2169   \n",
      "2                      2.6498               85.2136   \n",
      "\n",
      "   Operating Cash Flow Per Share  Free Cash Flow Per Share  \n",
      "0                         3.7414                    2.9269  \n",
      "1                         3.7450                    3.0572  \n",
      "2                         3.9907                    3.0429  \n",
      "\n",
      "[3 rows x 97 columns]\n",
      "  Quaterly Data  Cash On Hand  Receivables  Inventory  Pre-Paid Expenses  \\\n",
      "0    2023-06-30       23075.0       3447.0    14356.0             2997.0   \n",
      "1    2023-03-31       22402.0       2993.0    14375.0             3227.0   \n",
      "2    2022-12-31       22185.0       2952.0    12839.0             2941.0   \n",
      "\n",
      "   Other Current Assets  Total Current Assets  Property, Plant, And Equipment  \\\n",
      "0                   NaN               43875.0                         26389.0   \n",
      "1                   NaN               42997.0                         24969.0   \n",
      "2                   NaN               40917.0                         23548.0   \n",
      "\n",
      "   Long-Term Investments  Goodwill And Intangible Assets  ...  \\\n",
      "0                    NaN                           465.0  ...   \n",
      "1                    NaN                           399.0  ...   \n",
      "2                    NaN                           409.0  ...   \n",
      "\n",
      "   Inventory Turnover Ratio  Receiveable Turnover  Days Sales In Receivables  \\\n",
      "0                    1.4206                7.2315                    12.4455   \n",
      "1                    1.3091                7.7945                    11.5466   \n",
      "2                    1.4441                8.2378                    10.9252   \n",
      "\n",
      "   ROE - Return On Equity  Return On Tangible Equity  ROA - Return On Assets  \\\n",
      "0                  5.0372                     5.0827                  2.8855   \n",
      "1                  5.1999                     5.2427                  2.9240   \n",
      "2                  8.1492                     8.2232                  4.5022   \n",
      "\n",
      "   ROI - Return On Investment  Book Value Per Share  \\\n",
      "0                      4.9539               16.3497   \n",
      "1                      5.0679               15.4080   \n",
      "2                      7.8728               14.3771   \n",
      "\n",
      "   Operating Cash Flow Per Share  Free Cash Flow Per Share  \n",
      "0                         0.8792                    0.2886  \n",
      "1                         0.7246                    0.1272  \n",
      "2                         0.9366                    0.4045  \n",
      "\n",
      "[3 rows x 98 columns]\n"
     ]
    }
   ],
   "source": [
    "# Print top 3 rows\n",
    "print(ford.head(3))\n",
    "print(benz.head(3))\n",
    "print(tesla.head(3))"
   ]
  }
 ],
 "metadata": {
  "kernelspec": {
   "display_name": "Python 3 (ipykernel)",
   "language": "python",
   "name": "python3"
  },
  "language_info": {
   "codemirror_mode": {
    "name": "ipython",
    "version": 3
   },
   "file_extension": ".py",
   "mimetype": "text/x-python",
   "name": "python",
   "nbconvert_exporter": "python",
   "pygments_lexer": "ipython3",
   "version": "3.11.4"
  }
 },
 "nbformat": 4,
 "nbformat_minor": 5
}
